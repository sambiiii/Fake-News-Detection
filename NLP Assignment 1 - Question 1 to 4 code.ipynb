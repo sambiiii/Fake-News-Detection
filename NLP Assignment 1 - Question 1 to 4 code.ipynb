{
  "cells": [
    {
      "cell_type": "markdown",
      "metadata": {
        "id": "EfeKOqtPPGzG"
      },
      "source": [
        "# NLP Assignment 1 (40% of grade): Text classification for Fake News Detection\n",
        "\n",
        "This coursework will involve you implementing functions for a text classifier, which you will train to detect **fake news** in a corpus of approx. 10,000 statements, which will be split into a 80%/20% training/test split. \n",
        "\n",
        "In this template you are given the basis for that implementation, though some of the functions are missing, which you have to fill in.\n",
        "\n",
        "Follow the instructions file **NLP_Assignment_1_Instructions.pdf** for details of each question - the outline of what needs to be achieved for each question is as below.\n",
        "\n",
        "You must submit all **ipython notebooks and extra resources you need to run the code if you've added them** in the code submission, and a **2 page report (pdf)** in the report submission on QMPlus where you report your methods and findings according to the instructions file for each question."
      ]
    },
    {
      "cell_type": "code",
      "execution_count": 1,
      "metadata": {
        "colab": {
          "base_uri": "https://localhost:8080/"
        },
        "id": "sMGQXyMzPGzK",
        "outputId": "81630ccb-80b0-4f96-b547-43b09450a0b9"
      },
      "outputs": [
        {
          "output_type": "stream",
          "name": "stdout",
          "text": [
            "Looking in indexes: https://pypi.org/simple, https://us-python.pkg.dev/colab-wheels/public/simple/\n",
            "Requirement already satisfied: nltk in /usr/local/lib/python3.7/dist-packages (3.7)\n",
            "Requirement already satisfied: joblib in /usr/local/lib/python3.7/dist-packages (from nltk) (1.2.0)\n",
            "Requirement already satisfied: regex>=2021.8.3 in /usr/local/lib/python3.7/dist-packages (from nltk) (2022.6.2)\n",
            "Requirement already satisfied: tqdm in /usr/local/lib/python3.7/dist-packages (from nltk) (4.64.1)\n",
            "Requirement already satisfied: click in /usr/local/lib/python3.7/dist-packages (from nltk) (7.1.2)\n"
          ]
        }
      ],
      "source": [
        "!pip install nltk"
      ]
    },
    {
      "cell_type": "code",
      "execution_count": 2,
      "metadata": {
        "id": "nOBr4d31PGzM",
        "colab": {
          "base_uri": "https://localhost:8080/"
        },
        "outputId": "585cff81-5509-4baa-e737-05a3c3398252"
      },
      "outputs": [
        {
          "output_type": "stream",
          "name": "stderr",
          "text": [
            "[nltk_data] Downloading package punkt to /root/nltk_data...\n",
            "[nltk_data]   Package punkt is already up-to-date!\n"
          ]
        },
        {
          "output_type": "execute_result",
          "data": {
            "text/plain": [
              "True"
            ]
          },
          "metadata": {},
          "execution_count": 2
        }
      ],
      "source": [
        "import csv                               # csv reader\n",
        "from sklearn.svm import LinearSVC\n",
        "from nltk.classify import SklearnClassifier\n",
        "from sklearn.pipeline import Pipeline\n",
        "from sklearn.metrics import precision_recall_fscore_support # to report on precision and recall\n",
        "import numpy as np\n",
        "\n",
        "from nltk.tokenize import word_tokenize\n",
        "from string import punctuation\n",
        "import nltk\n",
        "import re\n",
        "nltk.download('punkt')"
      ]
    },
    {
      "cell_type": "code",
      "execution_count": 3,
      "metadata": {
        "id": "qoPdohdUPGzM"
      },
      "outputs": [],
      "source": [
        "def load_data(path):\n",
        "    \"\"\"Load data from a tab-separated file and append it to raw_data.\"\"\"\n",
        "    with open(path) as f:\n",
        "        reader = csv.reader(f, delimiter='\\t')\n",
        "        for line in reader:\n",
        "            if line[0] == \"Id\":  # skip header\n",
        "                continue\n",
        "            (label, text) = parse_data_line(line)\n",
        "            raw_data.append((text, label))\n",
        "\n",
        "def split_and_preprocess_data(percentage):\n",
        "    \"\"\"Split the data between train_data and test_data according to the percentage\n",
        "    and performs the preprocessing.\"\"\"\n",
        "    num_samples = len(raw_data)\n",
        "    num_training_samples = int((percentage * num_samples))\n",
        "    for (text, label) in raw_data[:num_training_samples]:\n",
        "        train_data.append((to_feature_vector(pre_process(text)),label))\n",
        "    for (text, label) in raw_data[num_training_samples:]:\n",
        "        test_data.append((to_feature_vector(pre_process(text)),label))"
      ]
    },
    {
      "cell_type": "markdown",
      "metadata": {
        "id": "d7yeUVmVPGzN"
      },
      "source": [
        "# Question 1: Input and Basic preprocessing (10 marks)"
      ]
    },
    {
      "cell_type": "code",
      "execution_count": 4,
      "metadata": {
        "id": "j4UQuRFyPGzN"
      },
      "outputs": [],
      "source": [
        "def convert_label(label):\n",
        "    \"\"\"Converts the multiple classes into two,\n",
        "    making it a binary distinction between fake news and real.\"\"\"\n",
        "    #return label\n",
        "    # Converting the multiclass labels to binary label\n",
        "    labels_map = {\n",
        "        'true': 'REAL',\n",
        "        'mostly-true': 'REAL',\n",
        "        'half-true': 'REAL',\n",
        "        'false': 'FAKE',\n",
        "        'barely-true': 'FAKE',\n",
        "        'pants-fire': 'FAKE'\n",
        "    }\n",
        "    return labels_map[label]\n",
        "\n",
        "\n",
        "def parse_data_line(data_line):\n",
        "    # Should return a tuple of the label as just FAKE or REAL and the statement\n",
        "    # e.g. (label, statement)\n",
        "    return (convert_label(data_line[1]), data_line[2])"
      ]
    },
    {
      "cell_type": "code",
      "execution_count": 5,
      "metadata": {
        "id": "F2LNz4oePGzO"
      },
      "outputs": [],
      "source": [
        "# Input: a string of one statement\n",
        "def pre_process(text):\n",
        "    # Should return a list of tokens\n",
        "    # DESCRIBE YOUR METHOD IN WORDS\n",
        "    text = re.sub(r\"(\\w)([.,;:!?'\\\"”\\)])\", r\"\\1 \\2\", text) # separate punctuation at ends of\n",
        "    text = re.sub(r\"([.,;:!?'\\\"“\\(\\)])(\\w)\", r\"\\1 \\2\", text)  # separate punctuation at beginning of words\n",
        "    text = re.split(r\"\\s+\",text) # divide strings into words \n",
        "    tokens = [t.lower() for t in text] # lower case\n",
        "    return tokens"
      ]
    },
    {
      "cell_type": "code",
      "execution_count": 6,
      "metadata": {
        "id": "kXtj4A7raPeS"
      },
      "outputs": [],
      "source": [
        "#[word.lower() for word in word_tokenize(text) if word not in punctuation]"
      ]
    },
    {
      "cell_type": "markdown",
      "metadata": {
        "id": "XpaTPyLzPGzO"
      },
      "source": [
        "# Question 2: Basic Feature Extraction (20 marks)"
      ]
    },
    {
      "cell_type": "code",
      "execution_count": 7,
      "metadata": {
        "id": "fiI-bQxHPGzP"
      },
      "outputs": [],
      "source": [
        "global_feature_dict = {} # A global dictionary of features\n",
        "\n",
        "def to_feature_vector(tokens):\n",
        "    # Should return a dictionary containing features as keys, and weights as values\n",
        "    # DESCRIBE YOUR METHOD IN WORDS\n",
        "    result = {}\n",
        "    for token in tokens:\n",
        "        if token not in result:\n",
        "            result[token] = 0\n",
        "        result[token] += 1\n",
        "        if token not in global_feature_dict:\n",
        "            global_feature_dict[token] = 0\n",
        "        global_feature_dict[token] += 1\n",
        "    return result"
      ]
    },
    {
      "cell_type": "code",
      "execution_count": 8,
      "metadata": {
        "id": "Pjq9MqvXPGzP"
      },
      "outputs": [],
      "source": [
        "# TRAINING AND VALIDATING OUR CLASSIFIER\n",
        "\n",
        "def train_classifier(data):\n",
        "    print(\"Training Classifier...\")\n",
        "    pipeline =  Pipeline([('svc', LinearSVC())])\n",
        "    return SklearnClassifier(pipeline).train(data)"
      ]
    },
    {
      "cell_type": "markdown",
      "metadata": {
        "id": "uGuZKN3cPGzP"
      },
      "source": [
        "# Question 3: Cross-validation (20 marks)"
      ]
    },
    {
      "cell_type": "code",
      "execution_count": 9,
      "metadata": {
        "id": "er239vJsPGzQ"
      },
      "outputs": [],
      "source": [
        "#solution\n",
        "from sklearn.metrics import classification_report\n",
        "from sklearn.metrics import accuracy_score\n",
        "\n",
        "\n",
        "def cross_validate(dataset, folds):\n",
        "    results=[]\n",
        "    cv_results = []\n",
        "    accuracy = []\n",
        "    fold_size = int(len(dataset)/folds) + 1\n",
        "    for i in range(0,len(dataset),int(fold_size)):\n",
        "        # insert code here that trains and tests on the 10 folds of data in the dataset\n",
        "        print(\"Fold start on items %d - %d\" % (i, i+fold_size))\n",
        "        # FILL IN THE METHOD HERE\n",
        "        train_set = dataset[:i] + dataset[i+fold_size:]\n",
        "        valid_set = dataset[i:i+fold_size]\n",
        "        samples, labels = map(list, zip(*valid_set))\n",
        "        classifier = train_classifier(train_set)\n",
        "        #y_predict\n",
        "        predictions = predict_labels(samples, classifier)\n",
        "        results += predictions\n",
        "        #y_true = label \n",
        "        y_true = [x[1] for x in valid_set]\n",
        "        cv_results.append(precision_recall_fscore_support(y_true, predictions, average='weighted'))\n",
        "        accuracy.append(accuracy_score(y_true, predictions))\n",
        "\n",
        "    train_set_label = [sample[1] for sample in dataset]    \n",
        "    print(classification_report(train_set_label, results))    \n",
        "# Average calculation of values oer 10 fold runs\n",
        "    cv_results = np.array(cv_results)\n",
        "    cv_results = [np.mean(cv_results[:,0]), np.mean(cv_results[:,1]), np.mean(cv_results[:,2])]\n",
        "\n",
        "    accuracy = np.asarray(accuracy)\n",
        "    accuracy = np.mean(accuracy)\n",
        "\n",
        "    print('The overall precision is {}'\n",
        "          '\\nrecall score is {}'\n",
        "          '\\nf1 score is {}'\n",
        "          '\\naccuracy is {}'.format(cv_results[0],cv_results[1],cv_results[2],accuracy))\n",
        "\n",
        "    predicted_label_data = []\n",
        "    for i in range(len(dataset)):\n",
        "        list_dataset = list(dataset[i])\n",
        "        list_dataset = list_dataset + [results[i]]\n",
        "        predicted_label_data.append(list_dataset)\n",
        "\n",
        "    return cv_results, predicted_label_data\n",
        "\n",
        "\n",
        "\n"
      ]
    },
    {
      "cell_type": "code",
      "execution_count": 10,
      "metadata": {
        "id": "C-lWb_n8PGzQ"
      },
      "outputs": [],
      "source": [
        "# PREDICTING LABELS GIVEN A CLASSIFIER\n",
        "\n",
        "def predict_labels(samples, classifier):\n",
        "    \"\"\"Assuming preprocessed samples, return their predicted labels from the classifier model.\"\"\"\n",
        "    return classifier.classify_many(samples)\n",
        "\n",
        "def predict_label_from_raw(sample, classifier):\n",
        "    \"\"\"Assuming raw text, return its predicted label from the classifier model.\"\"\"\n",
        "    return classifier.classify(to_feature_vector(preProcess(reviewSample)))"
      ]
    },
    {
      "cell_type": "code",
      "execution_count": 11,
      "metadata": {
        "colab": {
          "base_uri": "https://localhost:8080/"
        },
        "id": "zM8UMo6bPGzQ",
        "outputId": "a27c16cc-fe75-4f40-ba21-7badd9175801"
      },
      "outputs": [
        {
          "output_type": "stream",
          "name": "stdout",
          "text": [
            "Now 0 rawData, 0 trainData, 0 testData\n",
            "Preparing the dataset...\n",
            "Now 10241 rawData, 0 trainData, 0 testData\n",
            "Preparing training and test data...\n",
            "After split, 10241 rawData, 8192 trainData, 2049 testData\n",
            "Training Samples: \n",
            "8192\n",
            "Features: \n",
            "13560\n"
          ]
        }
      ],
      "source": [
        "# MAIN\n",
        "\n",
        "# loading reviews\n",
        "# initialize global lists that will be appended to by the methods below\n",
        "raw_data = []          # the filtered data from the dataset file\n",
        "train_data = []        # the pre-processed training data as a percentage of the total dataset\n",
        "test_data = []         # the pre-processed test data as a percentage of the total dataset\n",
        "\n",
        "\n",
        "# references to the data files\n",
        "data_file_path = 'fake_news.tsv'\n",
        "\n",
        "# Do the actual stuff (i.e. call the functions we've made)\n",
        "# We parse the dataset and put it in a raw data list\n",
        "print(\"Now %d rawData, %d trainData, %d testData\" % (len(raw_data), len(train_data), len(test_data)),\n",
        "      \"Preparing the dataset...\",sep='\\n')\n",
        "\n",
        "load_data(data_file_path) \n",
        "\n",
        "# We split the raw dataset into a set of training data and a set of test data (80/20)\n",
        "# You do the cross validation on the 80% (training data)\n",
        "# We print the number of training samples and the number of features before the split\n",
        "print(\"Now %d rawData, %d trainData, %d testData\" % (len(raw_data), len(train_data), len(test_data)),\n",
        "      \"Preparing training and test data...\",sep='\\n')\n",
        "\n",
        "\n",
        "split_and_preprocess_data(0.8)\n",
        "\n",
        "# We print the number of training samples and the number of features after the split\n",
        "print(\"After split, %d rawData, %d trainData, %d testData\" % (len(raw_data), len(train_data), len(test_data)),\n",
        "      \"Training Samples: \", len(train_data), \"Features: \", len(global_feature_dict), sep='\\n')\n"
      ]
    },
    {
      "cell_type": "code",
      "execution_count": 12,
      "metadata": {
        "id": "jsujEFgiZWB6",
        "colab": {
          "base_uri": "https://localhost:8080/"
        },
        "outputId": "57c7b383-a2bb-421a-d006-795276a30ecb"
      },
      "outputs": [
        {
          "output_type": "stream",
          "name": "stdout",
          "text": [
            "Fold start on items 0 - 820\n",
            "Training Classifier...\n",
            "Fold start on items 820 - 1640\n",
            "Training Classifier...\n",
            "Fold start on items 1640 - 2460\n",
            "Training Classifier...\n"
          ]
        },
        {
          "output_type": "stream",
          "name": "stderr",
          "text": [
            "/usr/local/lib/python3.7/dist-packages/sklearn/svm/_base.py:1208: ConvergenceWarning: Liblinear failed to converge, increase the number of iterations.\n",
            "  ConvergenceWarning,\n"
          ]
        },
        {
          "output_type": "stream",
          "name": "stdout",
          "text": [
            "Fold start on items 2460 - 3280\n",
            "Training Classifier...\n"
          ]
        },
        {
          "output_type": "stream",
          "name": "stderr",
          "text": [
            "/usr/local/lib/python3.7/dist-packages/sklearn/svm/_base.py:1208: ConvergenceWarning: Liblinear failed to converge, increase the number of iterations.\n",
            "  ConvergenceWarning,\n"
          ]
        },
        {
          "output_type": "stream",
          "name": "stdout",
          "text": [
            "Fold start on items 3280 - 4100\n",
            "Training Classifier...\n",
            "Fold start on items 4100 - 4920\n",
            "Training Classifier...\n",
            "Fold start on items 4920 - 5740\n",
            "Training Classifier...\n",
            "Fold start on items 5740 - 6560\n",
            "Training Classifier...\n"
          ]
        },
        {
          "output_type": "stream",
          "name": "stderr",
          "text": [
            "/usr/local/lib/python3.7/dist-packages/sklearn/svm/_base.py:1208: ConvergenceWarning: Liblinear failed to converge, increase the number of iterations.\n",
            "  ConvergenceWarning,\n"
          ]
        },
        {
          "output_type": "stream",
          "name": "stdout",
          "text": [
            "Fold start on items 6560 - 7380\n",
            "Training Classifier...\n",
            "Fold start on items 7380 - 8200\n",
            "Training Classifier...\n"
          ]
        },
        {
          "output_type": "stream",
          "name": "stderr",
          "text": [
            "/usr/local/lib/python3.7/dist-packages/sklearn/svm/_base.py:1208: ConvergenceWarning: Liblinear failed to converge, increase the number of iterations.\n",
            "  ConvergenceWarning,\n"
          ]
        },
        {
          "output_type": "stream",
          "name": "stdout",
          "text": [
            "              precision    recall  f1-score   support\n",
            "\n",
            "        FAKE       0.50      0.50      0.50      3562\n",
            "        REAL       0.62      0.62      0.62      4630\n",
            "\n",
            "    accuracy                           0.57      8192\n",
            "   macro avg       0.56      0.56      0.56      8192\n",
            "weighted avg       0.57      0.57      0.57      8192\n",
            "\n",
            "The overall precision is 0.5697247193999615\n",
            "recall score is 0.5688922263606873\n",
            "f1 score is 0.5688818090199836\n",
            "accuracy is 0.5688922263606873\n"
          ]
        }
      ],
      "source": [
        "cv_results, predicted_label_data = cross_validate(train_data, 10)"
      ]
    },
    {
      "cell_type": "markdown",
      "metadata": {
        "id": "GQXi_7FLPGzR"
      },
      "source": [
        "# 4. Error Analysis (10 marks)"
      ]
    },
    {
      "cell_type": "code",
      "source": [
        "def crossValidate(dataset, folds):\n",
        "    cv_results = []\n",
        "    accuracy = []\n",
        "    shuffle(dataset)\n",
        "    foldSize = int(len(dataset)/folds)\n",
        "    for i in range(0,len(dataset),foldSize):\n",
        "        # insert code here that trains and tests on the 10 folds of data in the dataset\n",
        "        print (\"fold start %d foldSize %d\" % (i, foldSize))\n",
        "        myTestData = dataset[i:i+foldSize]\n",
        "        myTrainData = dataset[0:i] + dataset[i+foldSize:]\n",
        "        classifier = trainClassifier(myTrainData)\n",
        "        y_pred = predictLabels(myTestData, classifier)\n",
        "#         review,label = zip(*myTestData)\n",
        "#         y_true = label\n",
        "        y_true = [x[1] for x in myTestData]\n",
        "#         y_true = classifier.classify(map(lambda x: x[1], myTestData))\n",
        "        cv_results.append(precision_recall_fscore_support(y_true, y_pred, average='weighted'))\n",
        "        accuracy.append(accuracy_score(y_true, y_pred))"
      ],
      "metadata": {
        "id": "GaJ25h2KQUyN"
      },
      "execution_count": 13,
      "outputs": []
    },
    {
      "cell_type": "code",
      "execution_count": 14,
      "metadata": {
        "id": "gsVmLzcJPGzR"
      },
      "outputs": [],
      "source": [
        "from sklearn import metrics\n",
        "import matplotlib.pyplot as plt\n",
        "# a function to make the confusion matrix readable and pretty\n",
        "def confusion_matrix_heatmap(y_test, preds, labels):\n",
        "    \"\"\"Function to plot a confusion matrix\"\"\"\n",
        "    # pass labels to the confusion matrix function to ensure right order\n",
        "    cm = metrics.confusion_matrix(y_test, preds, labels=labels)\n",
        "    fig = plt.figure(figsize=(10,10))\n",
        "    ax = fig.add_subplot(111)\n",
        "    cax = ax.matshow(cm)\n",
        "    plt.title('Confusion matrix of the classifier')\n",
        "    fig.colorbar(cax)\n",
        "    ax.set_xticks(np.arange(len(labels)))\n",
        "    ax.set_yticks(np.arange(len(labels)))\n",
        "    ax.set_xticklabels( labels, rotation=45)\n",
        "    ax.set_yticklabels( labels)\n",
        "\n",
        "    for i in range(len(cm)):\n",
        "        for j in range(len(cm)):\n",
        "            text = ax.text(j, i, cm[i, j],\n",
        "                           ha=\"center\", va=\"center\", color=\"w\")\n",
        "\n",
        "    plt.xlabel('Predicted')\n",
        "    plt.ylabel('True')\n",
        "    \n",
        "    # fix for mpl bug that cuts off top/bottom of seaborn viz:\n",
        "    b, t = plt.ylim() # discover the values for bottom and top\n",
        "    b += 0.5 # Add 0.5 to the bottom\n",
        "    t -= 0.5 # Subtract 0.5 from the top\n",
        "    plt.ylim(b, t) # update the ylim(bottom, top) values\n",
        "    plt.show() # ta-da!\n",
        "    plt.show()"
      ]
    },
    {
      "cell_type": "code",
      "source": [
        "labels = ['REAL', 'FAKE']\n",
        "train_data_label = [sample[1] for sample in predicted_label_data[:820]]\n",
        "train_predict_label = [sample[2] for sample in predicted_label_data[:820]]\n",
        "confusion_matrix_heatmap(train_data_label, train_predict_label, labels)\n",
        "\n",
        "false_positive = []\n",
        "false_negative = []\n",
        "for i in range(len(train_data_label)):\n",
        "    if predicted_label_data[i][1] == 'FAKE' and predicted_label_data[i][2] == 'REAL':\n",
        "        false_negative.append(predicted_label_data[i])\n",
        "    if predicted_label_data[i][1] == 'REAL' and predicted_label_data[i][2] == 'FAKE':\n",
        "        false_positive.append(predicted_label_data[i])\n",
        "\n",
        "def file_print_out(false):\n",
        "    raw_data_spilt = [pre_process(text[0]) for text in raw_data]\n",
        "    false_list = [list(text[0]) for text in false]\n",
        "    output_list = []\n",
        "    for tokens_1 in false_list:\n",
        "      for i in range(len(raw_data_spilt)):\n",
        "        if all(list(word in raw_data_spilt[i] for word in tokens_1)):\n",
        "            output_list.append(raw_data[i])\n",
        "    print(output_list)\n",
        "\n"
      ],
      "metadata": {
        "id": "h3VSoeRf5LCe",
        "colab": {
          "base_uri": "https://localhost:8080/",
          "height": 632
        },
        "outputId": "c6314db5-41e5-445d-fb07-1ef99c2f24f8"
      },
      "execution_count": 15,
      "outputs": [
        {
          "output_type": "display_data",
          "data": {
            "text/plain": [
              "<Figure size 720x720 with 2 Axes>"
            ],
            "image/png": "[encoded data removed]"
          },
          "metadata": {
            "needs_background": "light"
          }
        }
      ]
    },
    {
      "cell_type": "markdown",
      "source": [
        "Print out false positive and false negative"
      ],
      "metadata": {
        "id": "HDnzOXokWO5V"
      }
    },
    {
      "cell_type": "code",
      "execution_count": 16,
      "metadata": {
        "id": "DkSthDdlVXlU",
        "colab": {
          "base_uri": "https://localhost:8080/"
        },
        "outputId": "bff31394-a365-4ef7-986e-3328610586db"
      },
      "outputs": [
        {
          "output_type": "stream",
          "name": "stdout",
          "text": [
            "[(\"I'm the only person on this stage who has worked actively just last year passing, along with Russ Feingold, some of the toughest ethics reform since Watergate.\", 'REAL'), ('However, it took $19.5 million in Oregon Lottery funds for the Port of Newport to eventually land the new NOAA Marine Operations Center-Pacific.', 'REAL'), ('Says GOP primary opponents Glenn Grothman and Joe Leibham cast a compromise vote that cost $788 million in higher electricity costs.', 'REAL'), (\"McCain opposed a requirement that the government buy American-made motorcycles. And he said all buy-American provisions were quote 'disgraceful.' \", 'REAL'), ('We just had the best year for the auto industry in America in history.', 'REAL'), ('Hate crimes against American Muslims and mosques have tripled after Paris and San Bernardino.', 'REAL'), ('Says Paul Ryan is still endorsing Trump.', 'REAL'), (\"The nuclear test conducted in our nation this time is the Earth's 2,054th nuclear test. The five permanent members of the U.N. Security Council have conducted 99.99 percent of the total nuclear tests.\", 'REAL'), ('Says Marco Rubio skipped 18 defense votes including one to arm the Kurds to fight ISIS.', 'REAL'), ('African-American youth unemployment is 51 percent. Hispanic youth unemployment is 36 percent.', 'REAL'), ('We created 800,000 new jobs, we cut the unemployment rate almost in half and today New York State has more private sector jobs than it has ever had in its history', 'REAL'), ('At Bain Capital, we helped start an early childhood learning company called Bright Horizons that First Lady Michelle Obama rightly praised.', 'REAL'), ('The new Arizona immigration law \"says that any police officer can stop anyone who appears to them to be reasonably suspicious of being an undocumented person.\"', 'REAL'), ('Says U.S. Rep. Steve Southerland voted to keep the shutdown going.', 'REAL'), ('There is a federal criminal law that says its a crime to transport dentures across state lines.', 'REAL'), ('I belong to the AFL-CIO.', 'REAL'), ('The insurance commissioner cant do squat about health care.', 'REAL'), ('Since 1968, more Americans have died from gunfire than died in all the wars of this countrys history.', 'REAL'), ('Since Gina Raimondo took office, investment fees on the states pension portfolio have gone up from about $12 million annually to about $50 million.', 'REAL'), ('The IRS also investigated liberal groups, groups that had progressive in their name. ... The IRS was basically looking at everybody.', 'REAL'), ('President Obama decided not to meet with Prime Minister Benjamin Netanyahu in New York.', 'REAL'), ('The city of Columbus would save $41 million a year if employees had to contribute to their own, guaranteed-check pensions.', 'REAL'), ('You had more women getting computer sciences degrees in the 80s by a factor of 2-plus than you do now.', 'REAL'), ('Some neighborhood schools are closing.', 'REAL'), ('He told gay organizers in Massachusetts he would be a stronger advocate for special rights than even Ted Kennedy.', 'REAL'), ('Says the U.S. Supreme Court found that Social Security is not guaranteed.', 'REAL'), ('Oregonians have an amazing no-cost way to fight abortion with free political donations', 'REAL'), ('In just 17 years, spending for Social Security, federal health care and interest on the debt will exceed ALL tax revenue!', 'REAL'), ('President Obama took more money from Wall Street in the 2008 campaign than anybody ever had.', 'REAL'), ('Says the Arizona immigration law expressly bans racial profiling.', 'REAL'), ('We (Democrats) have made steady progress creating jobs and improving our schools.', 'REAL'), ('Says Ron Johnson calls Social Security a Ponzi scheme and wants to privatize the program.', 'REAL'), ('There are already more American jobs in the solar industry than in coal mining.', 'REAL'), ('Barack Obama is in an economy thats only worsened since hes been president of the United States.', 'REAL'), ('Romney failed to take action against \"sanctuary cities\" in Massachusetts.', 'REAL'), ('Says New Jersey is down nearly 200,000 jobs from its pre-recession peak and with Gov. Chris Christie New Jersey has trailed the rest of America when it comes to unemployment for 12 consecutive months.', 'REAL'), ('We have been in Afghanistan longer now than we have been in any foreign land conducting a war in our nations history.', 'REAL'), ('Gas prices have gone up $2 since Obama took office.', 'REAL'), ('Webster sponsored a bill to create a form of marriage that would trap women in abusive relationships.', 'REAL'), ('There are a lot of casinos across the country that have gone bankrupt.', 'REAL'), ('Seniors with coverage under Medicare Advantage will give up \"more than their share\" because of health care reform', 'REAL'), ('The Social Security trust fund is sound. Without anything being done, it would function well into 2038; and even after that time with no changes, we could pay 80 percent of the benefits that people have earned.', 'REAL'), ('The Republicans have 2 percent of the Muslim vote.', 'REAL'), ('Marco Rubio voted against authorizing President Obama to strike Syria after Assad used chemical weapons on his own people.', 'REAL'), ('While our people work longer hours for lower wages, almost all new income goes to the top 1 percent.', 'REAL'), ('Says Rep. Jim Weidner proposed a bill taking away health care for 80,000 of Oregons children.', 'REAL'), ('Says that in the 1985 election former Gov. Tom Kean had the largest winning margin for a gubernatorial candidate in Jersey history.', 'REAL'), ('You ... said that Barack Obama was not ready to be commander in chief.', 'REAL'), ('Im the only member of the House of Representatives who raised most of his campaign funds in the last election from small contributions of less than $200.', 'REAL'), ('Rick Scott took $200,000 from a family that leased land for drilling and now he is trying to hide from it.', 'REAL'), ('At the beginning of the last decade ... America had a budget surplus of over $200 billion. By the time I took office, we had a one-year deficit of over $1 trillion and projected deficits of $8 trillion over the next decade.', 'REAL'), ('U.S. taxpayers are being forced to fund Feisal Abdul Raufs trip to the Middle East.', 'REAL'), ('There are Justice Department policies against FBI Director James Comey discussing details of a federal investigation so close to an election.', 'REAL'), ('Democratic presidents \"have been considerably more effective at creating private-sector jobs.\"', 'REAL'), ('Military \"recruiting went on at Harvard every single day throughout the time (Kagan) was there.\"', 'REAL'), ('Says that under Rick Perrys plan, Texas has cut funding for public schools by 25%.', 'REAL'), ('Says David Perdue wants to abolish the U.S. Department of Education, which would cost Georgia schools $1 billion a year and eliminate millions in student loans.', 'REAL'), ('The Paul Ryan budget proposal would privatize Medicare.', 'REAL'), ('Says allowing the payroll tax holiday to expire would end up costing another estimated 900,000 jobs in 2012.', 'REAL'), ('Hillary Clinton supported NAFTA and permanent China trade. Pennsylvania lost thousands of jobs.', 'REAL'), (\"Obama's budget plan would take national debt up to about 80 percent of gross national product. ... Historically, it's been about 40 percent.\", 'REAL'), ('President Barack Obama\\'s \"initial response when we heard about the Christmas underwear bomber\" was to say that \"this was the act of an isolated extremist.\"', 'REAL'), ('In the 1950s, \"A lot of people got rich and they had to pay a top tax rate of 90 percent.\"', 'REAL'), ('Says Gov. Chris Christies proposal to reduce state income taxes would be the second tax cut for the rich by the governor in two years.', 'REAL'), ('About 230,000 people that were on unemployment when I took office are not on unemployment now.', 'REAL'), ('Hypocrisy at the Clinton Foundation: Top male staff made on average $218,029 while top female staff made $153,014 from 2010-2014.', 'REAL'), ('Says federal law enforcement officers cut off questioning of the Christmas Day underwear bomber by giving him a Miranda warning after 30 minutes of questioning.', 'REAL'), ('On legalizing illegal immigrants.', 'REAL'), ('Says there are homes for sale on and around (Oswego Lake) right now for under $150,000 that anyone is welcome to buy.', 'REAL'), ('Chris Christie has not increased the taxes on anyone.', 'REAL'), ('Seven presidents before (Barack Obama) -- Republicans and Democrats -- tried to expand health care to all Americans.', 'REAL'), (\"If you got rid of the income tax today you'd have about as much revenue as we had 10 years ago.\", 'REAL'), ('Says Scott Walker wants to ban common forms of birth control, including the pill.', 'REAL'), ('Shelby County donated Im sorry, gave 44 schools to the city of Memphis.', 'REAL'), ('Top U.S. intelligence officials have toldevery member of Congress, including the president, were about to be attacked in a serious way because (of) the threat emanating from Syria and Iraq.', 'REAL'), ('Report that #GOP insisting on changes to Social Security as part of #fiscalcliff false. BTW those changes are supported by @barackobama.', 'REAL'), ('Nobody has played clips over and over ...of President Obama (saying), If they bring a knife to the fight, well bring a gun.', 'REAL'), ('Rep. Paul Ryans Medicare plan lines the pockets of the private insurance companies, increases costs for seniors and does not reduce the deficit.', 'REAL'), ('Atmospheric conditions could push a footballs pressure down approximately one-and-a-half pounds per square inch.', 'REAL'), ('Taxpayers are on the hook ... for less than a third of the proposed new Atlanta Falcons stadium, and those funds are repaid from money that comes from outsiders.', 'REAL'), ('A college loan is the only loan in the United States that you cannot refinance when interest rates go down.', 'REAL'), (\"The House of Representatives has never passed a resolution of disapproval to condemn a member's behavior.\", 'REAL'), ('The policy mistakes that ... the Clintons made got us, in large degree, to the situation that we are in today with mass incarceration.', 'REAL'), ('They tried to give us $400 million to build a high-speed train that goes 39 miles an hour.', 'REAL'), ('Says the CBO estimates that fully extending the Bush tax cuts would add 600,000-1.4 million jobs in 2011 and 900,000-2.7 million jobs in 2012.', 'REAL'), ('Last week the Texas State Board of Education (SBOE), led by Rick Perrys appointee, voted to remove Thomas Jefferson from social studies textbook standards. Thats right. Thomas Jefferson... was deleted from a list of historical figures who inspired political change.', 'REAL'), (\"You know we can't just pull out now... The truth of the matter is: If we started today, it would take one year, one year to get 160,000 troops physically out of Iraq, logistically.\", 'REAL'), ('Says Texas routinely gets a lot more federal spending than it pays in taxes.', 'REAL'), ('Electric car sales in Georgia have dropped dramatically since a $5,000 tax credit was eliminated and a $200 annual registration fee was imposed July 1.', 'REAL'), ('The Redskins Training Camp deal generated $40 million in new private investment in the city.', 'REAL'), ('The GOP budget plan would cut nearly a million jobs.', 'REAL'), ('A 2013 state law would allow the operator of an iron ore mine in northern Wisconsin to fill in pristine streams and ponds with mine waste.', 'REAL'), ('2008 was the deadliest year of the war (in Afghanistan) for American forces.', 'REAL'), ('The streetcar project planned by Mayor Tom Barrett would be a 1900s style trolley.', 'REAL'), ('Lawmakers were paid for their off-season efforts to, for the first time, take the lead in drawing borders for two would-be cities.', 'REAL'), ('Enacting the Right-to-Carry Act would amount to expanding the rights of sex offenders, terrorists, child predators, and abusers to carry concealed weapons across state lines.', 'REAL'), ('As governor of Arkansas, I cut taxes and fees almost 100 times, saving the taxpayers almost $380-million. I left a surplus of nearly $850-million.', 'REAL'), ('I havent raised taxes in the time Ive been the governor of New Jersey.', 'REAL'), ('Groups that receive foreign money are spending huge sums to influence American elections.', 'REAL'), ('[A]t his current rate, President Obama will have added more debt to the United State of America by the end of his first term than each of the previous 43 presidents -- combined!', 'REAL'), ('We know that Saudi Arabia started al-Qaida.', 'REAL'), ('Says although the unemployment rate seems to be improving, it does not reflect real job creation -- its caused by a shrinking of the actual labor force.', 'REAL'), ('In general, it appears Wisconsins right to work bill would likely apply to the Green Bay Packers players and their union.', 'REAL'), ('Says he passed eight measures, including ones to prevent groping at airport security checks and to bar sanctuary cities in Texas.', 'REAL'), ('Dan Patrick said that if women get paid less than a man for the same job, that thats not a problem.', 'REAL'), ('Today, for the first time in fifteen years, Master Locks unionized plant in Milwaukee is running at full capacity.', 'REAL'), ('Tom Reed has actually voted for every single trade deal that has ever come before him in any form.', 'REAL'), ('Common Core is not from the federal government, they do not have their fingerprints on this thing at all.', 'REAL'), ('In Miami-Dade County, we spend at our school system over $20 million every year educating recent immigrants.', 'REAL'), (\"Senator McCain has been talking tough about earmarks, and that's good, but earmarks account for about $18-billion of our budget.\", 'REAL'), ('Californias Prop 60, which would requirecondom usein adult films, would put workers in the adult film industry at riskfor lawsuits and harassment.', 'REAL'), ('Sens. Isaksons, Chambliss Votes Against Unemployment Insurance Were Votes to Kill Nearly 6,000 Georgia Jobs.', 'REAL'), ('The bulk of the people who are shot with a weapon other than these drug gangs taking on one another end up being shot with their own weapon.', 'REAL'), ('In the entire public school system in Camden last year, only three students graduated college ready.', 'REAL'), (\"I told the Congress 'thanks, but no thanks,' on that Bridge to Nowhere.\", 'REAL'), ('Unemployment has fallen from 10 percent during the presidents first year in office to 8.5 percent today.', 'REAL'), ('Says State Rep. Kristi Thibaut was an ACORN lobbyist.', 'REAL'), ('The DNC says McCain flip-flopped on whether the Iraq War would be easy.', 'REAL'), ('Says Ohio law gives tax breaks to rich people who own private jets.', 'REAL'), ('Says New Hampshire has the third-highest property tax in the country.', 'REAL'), ('In 2006, Bernie Sanders voted in the House with hard-line Republicans for indefinite detention for undocumented immigrants, and then he sided with those Republicans to stand with vigilantes known as Minutemen who were taking up outposts along the border to hunt down immigrants.', 'REAL'), ('Americans spend 6.1 billion hours a year on tax preparation.', 'REAL'), ('On letting Occupy Atlanta protesters stay in Woodruff Park.', 'REAL'), ('In first week as governor, Tim Kaine proposed a nearly $4 billion tax increase, $4 billion, including a tax increase on people earning as little as $17,000 a year.', 'REAL'), ('Every president has raised the debt ceiling.', 'REAL'), ('The states have always defined marriage.', 'REAL'), ('The FCCs net neutrality policy includes whatis essentially a massive tax increase.', 'REAL'), ('The typical white male worker in this country is making in real terms what he was making in 1973 and the average worker is making what they were making in 1996.', 'REAL'), ('The minimum wage is mostly an entry-level wage for young people.', 'REAL'), ('In the last few months alone, we have apprehended extremists within our borders who were sent here from the border region of Afghanistan and Pakistan to commit new acts of terror.', 'REAL'), ('I have had the challenge during this administration to suspend no less than 37 public officials in about 36 months.', 'REAL'), ('President Obama in November of last year wiped away (a program) that allows for shared fingerprinting for those who are behind bars so you know who is here legally and illegally.', 'REAL'), ('McCain sought the political support of minister John Hagee, \"who believes Hurricane Katrina was God\\'s punishment for gay rights and called the Catholic Church \\'the Antichrist\\' and a \\'false cult.\\'\"', 'REAL'), ('Says 51 percent of federal tax filers paid zero federal income tax.', 'REAL'), ('Because of the 2011 debt ceiling fight, the stock market lost 2,000 points.', 'REAL'), ('Wisconsins attorney general and state treasurer ordered the daughter of Earth Day founder Gaylord Nelson not to discuss climate change on state time.', 'REAL'), ('The Affordable Care Act is bringing the cost of health care in our country down.', 'REAL'), ('Rick Perry had planned to retire from the legislature until his best friend, David Weeks, and I talked him into switching parties and running for the GOP nomination for agriculture commissioner.', 'REAL'), ('Out of 150,000 tenured teachers in the last 10 years, only 17 have been dismissed for incompetence.', 'REAL'), ('The Chris Hani Baragwanath in South Africa is the worlds third-biggest hospital.', 'REAL'), ('Ohio is not meeting its obligation to update voter registrations when voters change their address with the BMV.', 'REAL'), ('Our economy still has three people looking for every job (opening).', 'REAL'), ('Carly Fiorina, shes against banning assault weapons.', 'REAL'), ('Bill McCollum holds the same position on (embryonic stem cell research) as Barack Obama.', 'REAL'), ('Says Lee Leffingwell raised property taxes 20 percent in three years.', 'REAL'), ('Says President Barack Obama was responsible for the assassination of at least four American citizens in drone strikes.', 'REAL'), ('Says a highway was closed in El Paso because of bullets flying across the border.', 'REAL'), ('Sen. Joe Liebermans home state has a public option which covers about 10,000 of its citizens that was introduced by its Republican governor.', 'REAL'), ('Says Donald Trump wants to deport our Dreamers.', 'REAL'), ('The majority of Americans are conservatives.', 'REAL'), ('Obama has racked up more debt than any president in history over $5 trillion.', 'REAL'), ('Says Arizona congressional candidate Ray Strauss is a Champion of Big Government for his votes to raise taxes while on the local city council.', 'REAL'), ('The No. 1 issue that the American people care about is getting America back to work.', 'REAL'), ('Says Ronda Storms voted to fund the Taj Mahal courthouse.', 'REAL'), ('One-half of undocumented workers pay federal income taxes, which means they are paying more federal income taxes than Donald Trump pays.', 'REAL'), ('Weve got a 1,000 National Guard troop request thats been in front of this president for over a year and no response.', 'REAL'), ('Says veterans disability claims backlog doubled in Obamas first term.', 'REAL'), ('Says he worked with the Democratic legislature to balance spending with revenues so that at the end of my four-year term, the rainy day fund was established at more than $2 billion.', 'REAL'), ('Just about everyone everywhere is spending more hours on the job, less time with their families, bringing home smaller and smaller paychecks, while theyre paying more and more at the gas pump and the grocery stores.', 'REAL'), ('David Perdue said hed raise taxes.', 'REAL'), ('The American people will be appalled to learn the health care bill exempts (congressional) leadership and committee staff.', 'REAL'), ('We admit about 100,000 permanent immigrants from the Middle East every year.', 'REAL'), ('Says paid family leave is a program that is standard in all but five nations around the world.', 'REAL'), ('Barack Obama \"passed laws moving people from welfare to work.\"', 'REAL'), ('Says President Barack Obama promised a pathway to citizenship to undocumented immigrants and didnt deliver jack squat on any of it.', 'REAL'), ('The proposed Gogebic mine in northern Wisconsin could be extended as long as 21 miles.', 'REAL'), ('Says the United States actually exports more gasoline, diesel and other fuels than it imported in 2011 for the first time since, I think, 1949.', 'REAL'), ('Rhode Island is the only state where officers at state-supported [colleges] carry out their duties unarmed.', 'REAL'), (\"The law is very clear! 'The monies recouped from the TARP shall be paid into the general fund of the treasury for the reduction of the public debt.'\", 'REAL'), ('Says Paul Ryan tried to change the whole game for Social Security', 'REAL'), ('In 2010, the non-partisan Government Accountability Office found that only 6.5 percent of the U.S.-Mexico border was under full control of the Border Patrol.', 'REAL'), ('Not one tax has been raised since Ive been governor.', 'REAL'), ('Says 18 states and the District of Columbia have voted Democratic in six consecutive presidential elections.', 'REAL'), ('While the countrys economy was battered, nine states with no income tax actually grew jobs from 2001 to 2010.', 'REAL'), ('They say teachers only make on averagein New Jersey 60,000 dollars a year.They only work 180 days.', 'REAL'), ('The city of Atlanta has either the highest or second-highest average water bills in the country.', 'REAL'), ('In exchange for five minutes with Bill Clinton, the government of Qatar was going to give $1 million to the Clinton Foundation.', 'REAL'), ('We are one of only two states to have eight consecutive months of declining unemployment. Twenty-one states had increased unemployment last month. Ours went down.', 'REAL'), ('Says he was known as Veto Corleone for cutting spending as Florida governor.', 'REAL'), ('(John McCain) was even mentioned as a running mate with John Kerry.', 'REAL'), ('And delivered more tax relief than the other Republicans combined.', 'REAL'), ('Ninety-seven percent of the time. Thats how often Mark Warner votes with President Obama.', 'REAL')]\n"
          ]
        }
      ],
      "source": [
        "file_print_out(false_positive)"
      ]
    },
    {
      "cell_type": "code",
      "source": [
        "file_print_out(false_negative)"
      ],
      "metadata": {
        "colab": {
          "base_uri": "https://localhost:8080/"
        },
        "id": "TQCGhQuK8K0O",
        "outputId": "e4e3f332-9dee-4580-b2e8-1fed76e70013"
      },
      "execution_count": 17,
      "outputs": [
        {
          "output_type": "stream",
          "name": "stdout",
          "text": [
            "[('Health care reform legislation is likely to mandate free sex change surgeries.', 'FAKE'), ('Jim Dunnam has not lived in the district he represents for years now.', 'FAKE'), ('When Mitt Romney was governor of Massachusetts, we didnt just slow the rate of growth of our government, we actually cut it.', 'FAKE'), ('Most of the (Affordable Care Act) has already in some sense been waived or otherwise suspended.', 'FAKE'), ('Women and men both are making less when you adjust for inflation than when John Kitzhaber was first elected governor.', 'FAKE'), ('Says Mitt Romney wants to get rid of Planned Parenthood.', 'FAKE'), ('Says a U.S. Supreme Court justice suggested that some U.S. cases will be decided based on South African law.', 'FAKE'), ('Says Ohio budget item later signed into law by Gov. John Kasich requires women seeking an abortion to undergo a mandatory vaginal probe.', 'FAKE'), ('Obamacare will provide insurance to all non-U.S. residents, even if they are here illegally.', 'FAKE'), ('We have towns in West Texas that are out of water, that are having to truck in water.', 'FAKE'), ('They were going to build the wall a while ago, not so long ago, like in 06. And they couldnt get environmental impact statements.', 'FAKE'), ('Transgender individuals in the U.S. have a 1-in-12 chance of being murdered.', 'FAKE'), ('Says the man who rushed the stage at him in Dayton, Ohio, had chatter about ISIS, or with ISIS in his social media posts.', 'FAKE'), ('U.S. Rep. Phil Gingrey gave the government the power to electronically spy on Americans without a warrant.', 'FAKE'), ('Alex Sink funneled three quarters of a million dollars in no-bid contracts to Bank of America.', 'FAKE'), ('Says one out of three U.S. homeless men is a veteran.', 'FAKE'), ('Says Charlie Crist supports cuts to the Medicare Advantage program.', 'FAKE'), ('In the past 20 years, Egypt has made great strides in political and democratic reform.', 'FAKE'), ('The amount of attention paid this week to Chris Christie makes the coverage of Benghazi ... pale in significance.', 'FAKE'), ('Austin is burdened by the fastest-growing tax increases of any major city in the nation.', 'FAKE'), ('Says David Jolly supports privatizing Social Security.', 'FAKE'), ('Of our 98,000 teachers who are K-12, over 53,000 of those teachers today are over 50 years old.', 'FAKE'), ('Rudy Giuliani is \"probably the most underqualified man since George Bush to seek the presidency.\"', 'FAKE'), ('About half of the presidents have been governors; half of them, senators.', 'FAKE'), ('Barack Hussein Obama will ... force courts to accept Islamic Sharia law in domestic disputes.', 'FAKE'), ('We are already almost halfway to our 2010 goal of creating 700,000 new jobs in seven years.', 'FAKE'), ('SaysMichael Bennet wants to close Guantanamo Bay prisonand bring terrorists right here to Colorado.', 'FAKE'), ('The president said hes going to bring in 250,000 (Syrian and Iraqi) refugees into this country.', 'FAKE'), ('Mr. Caprio is a career politician who has never worked in the private sector.', 'FAKE'), ('In Rhode Island, 9 percent of workers use the states temporary disability insurance program each year while in New Jersey, the rate is only 3 percent.', 'FAKE'), ('We have more illegal immigrants here than we did five years ago.', 'FAKE'), ('The presidents health care proposals will cause most Americans to have their premiums increased, not decreased, and hundreds of millions of people lose their current insurance coverage.', 'FAKE'), ('There are more oil rigs in operation in the United States than the rest of the world combined.', 'FAKE'), ('The Obama administration shut down the Amber Alert program because of the government shutdown.', 'FAKE'), (\"Under the Cash for Clunkers program, all we've got to do is ... go to a local junkyard, all you've got to do is tow it to your house. And you're going to get $4,500.\", 'FAKE'), ('Not one Republican has the guts to recognize that climate change is real.', 'FAKE'), ('In the last five years, 28,000 people have been killed along the U.S.-Mexico border.', 'FAKE'), ('The state of Ohio has one of the lowest unemployment rates in the nation right now and is leading the pack in terms of job creation.', 'FAKE'), ('Says HB2 hasnt moved the needle one iota on North Carolinas economy.', 'FAKE'), ('Close to 30% of our federal prison population consists of illegal immigrants.', 'FAKE'), ('Says Rick Scott called education not a core function of the state.', 'FAKE'), ('Milwaukee County taxpayers paid $370,000 to settle a lawsuit over a decision by Sheriff David A. Clarke Jr. to use untrained corrections officers rather than deputies to patrol the lakefront.', 'FAKE'), ('Says Marco Rubio is the one for an open border.', 'FAKE'), ('Says cuts to Medicare affect people who have already paid in. We paid for it.', 'FAKE'), ('Providences port is 200 miles closer to Europe than any other Eastern port.', 'FAKE'), ('We now have driven (health care) costs down to the lowest theyve been in 50 years.', 'FAKE'), (\"Sixty-five percent of the Iraqi people now say it's okay to shoot an American soldier.\", 'FAKE'), ('Local law enforcement . . . will have access to the [Obamacare] Data Hubs treasure trove of personal info.', 'FAKE'), ('John McCain, \"one of the richest people in a Senate filled with millionaires,\" says the solution to the housing crisis is for people to get a \"second job\" and \"skip their vacations.\"', 'FAKE'), ('The top 1 percent pay over half of the entire revenue for this country.', 'FAKE'), ('Says he never said he would keep education funding the same.', 'FAKE'), ('Says Sen. Sherrod Brown voted to block American energy production and increase energy taxes.', 'FAKE'), ('If you put the $47 billion in revenue (raised over 10 years by the Buffett rule) into infrastructure you could create 611,000 infrastructure jobs.', 'FAKE'), ('What is the proper collective noun for a group of baboons? Believe it or not . . . a Congress!', 'FAKE'), ('The (health reform) legislation which Washington passed last year has made it more difficult to hire because its increased costs for employers.', 'FAKE'), ('Thompson \"voted against $250,000 caps on damages (and) almost anything that would make our legal system fairer.\"', 'FAKE'), ('The number of uninsured people in Massachusetts is about the same as it was when the mandates were passed in 2006.', 'FAKE'), ('We spend less on defense today as % of GDP than at any time since Pearl Harbor.', 'FAKE'), ('Blames Mike McIntyre and Nancy Pelosi for the second straight year of no cost-of-living increases for Social Security beneficiaries.', 'FAKE'), ('The American people support defunding Obamacare and oppose shutting down the government.', 'FAKE'), ('This year in Congress (Connie Mack IV) has missed almost half of his votes.', 'FAKE'), ('1/3 of our kids drop out (of high school), cannot go to college or start a career.', 'FAKE'), ('Not even old Gen. Eisenhower saluted military personnel as president.', 'FAKE'), ('You cant get on an airplane, but more than 2,000 people on that list have been able to buy a gun.', 'FAKE'), ('74 percent of Republicans support the Affordable Care Act.', 'FAKE'), ('Says Alex Sink failed Florida homeowners by using predatory lending practices.', 'FAKE'), ('You cant check out a library book without a photo ID.', 'FAKE'), ('Says he raised average family income by 50 percent during his tenure as Arkansas governor.', 'FAKE'), ('Most young Americans right now, theyre not covered by health insurance.', 'FAKE'), ('Says two-thirds of groups targeted for IRS scrutiny were not conservative.', 'FAKE'), ('In the class of 1968 at Patrice Lumumba University in Moscow, Mahmoud Abbas was one of the members of that class, and so was Ali Khamenei. And thats where they first established relationships with the young Vladimir Putin.', 'FAKE'), ('As a U.S. senator with salary and perks, \\u202a#Bernie\\u202c is in the top 1 percent, but still paid only 13 percent in taxes last year.', 'FAKE'), ('Says it has offered $12 million in savings through 2011 and $184 million in savings over the next 25 years in contract negotiations with the City of Milwaukee.', 'FAKE'), ('The Obama administration is unwinding our nations welfare-to-work requirements.', 'FAKE'), ('Now, in the House of Representatives, we have 40 different jobs bills that have passed and almost all of them have been bipartisan.', 'FAKE'), ('Sheila Jackson Lee of Texas said: Hey, all you wrinkly, white-aged has-beens: Its time for you to die and let the next generation have your spot on the planet.', 'FAKE'), ('Republican (small business tax cut) bill spends $80 million for better Google searches, not job creation', 'FAKE'), ('If black America were a country, itd be the 15th wealthiest nation in the world.', 'FAKE'), ('It has been estimated that nearly 40 percent of all guns sold in America are sold by private, unlicensed sellers either online or through gun shows.', 'FAKE'), ('Greg Abbott and his surrogates have referred to women who have been the victims of rape or incest as though somehow what they are confronting is a minor issue.', 'FAKE'), ('Under a proposed medical marijuana amendment in Florida, you dont get refills -- you get it forever.', 'FAKE'), ('A data-storing microchip \"would be implanted in the majority of people who opt to become covered by the public health care option.\"', 'FAKE'), (\"I'm probably one of the four or five best-known Americans in the world.\", 'FAKE'), ('Only in Washington would politicians spend $27 million to teach Moroccans how to make pottery.', 'FAKE'), ('SaysRand Paulhas put out budgets to cut the military in half.', 'FAKE'), ('The fundraising numbers are in, and our grassroots support is unmatched!', 'FAKE'), ('Obama voted \"to cut off funding for our American troops on the battlefield.\"', 'FAKE'), ('Its gotten to a point where the average federal worker makes twice as much as the average private sector worker.', 'FAKE'), ('These 15 political appointees (on the IPAB) will make all the major health care decisions for over 300 million Americans.', 'FAKE'), ('Jason Carter supports using Georgia tax dollars to promote Obamacare', 'FAKE'), ('There have even been Republican congressmen who have said, If you give us more money we dont know where we would even put additional Border Patrol agents.', 'FAKE'), ('Says Kay Bailey Hutchison voted for sanctuary cities.', 'FAKE'), (\"John wasn't this raging populist four years ago when he ran for president.\", 'FAKE'), ('Says no one from the Bush family attended the 2012 Republican National Convention and there was no President Bush at the 2008 convention.', 'FAKE'), ('Weve got a personal tax system thats so complicated it costs Americans about $500 billion a year to comply with the current tax code.', 'FAKE'), ('In the case of General Motors, the (Bush) administration wrote a check without asking for any conditions of change.', 'FAKE'), ('Oregon is the only state out of the 50 states in the USA that continues to pay 100% of the medical benefits for its employees and their families.', 'FAKE'), ('Three years ago, a newly elected President Obama told America that if Congress approved his plan to borrow nearly a trillion dollars, he would hold unemployment below 8 percent.', 'FAKE'), ('The Mitchell Park Domes lose about $1 million-plus every year and the number of people going to the Domes has been going down.', 'FAKE'), ('Under a bill before the legislature, youd have to go to court to fire an employee.', 'FAKE'), ('Under the Hate Crimes bill, \"any pastor, preacher, priest, rabbi or imam who gives a sermon out of their moral traditions about sexual practices could be found guilty of a federal crime.\"', 'FAKE'), ('U.S. global AIDS spending helped reduce political instability and violence by 40 percent in recipient nations.', 'FAKE'), ('Any legislative action that is taken now could very well be rendered completely null and void by the decision of the Supreme Court expected this June.', 'FAKE'), ('There were 36 states where Republicans who were in charge refused to implement a state (health insurance) exchange.', 'FAKE'), ('Says a tweet he sent out wasnt saying, check out a sex tape. It was just take a look at the background of Alicia Machado.', 'FAKE'), ('Aphotograph of 21-year-old Hillary Clinton featured a Confederate battle flag in the background.', 'FAKE'), ('This administration and this Congress have been systematically cutting funding to border security since the Democrats took control.', 'FAKE'), ('A new college tuition reciprocity agreement with Minnesota makes college education more affordable for Wisconsin residents.', 'FAKE'), ('Mitt Romney is the first major party candidate for president of the United States in modern times not to release at least 12 years of tax returns.', 'FAKE'), ('Says Colorado Democraticcongressional candidate MorganCarroll racked up $11 billion in new spending in the state Legislature.', 'FAKE'), ('People were hopeless. Sixty percent of the population, 70 percent of the population wanted to live somewhere else. . . . By the time I left, 70 percent wanted to stay.', 'FAKE'), ('Despite keeping distance from national media interviewers, I did local press all along, the last three months.', 'FAKE'), ('Scott Maddox has run \"losing campaigns for 3 of Florida\\'s 4 available cabinet positions.\"', 'FAKE'), ('Says on contraception, his plan is cheaper and easier for you than Sen. Mark Udalls', 'FAKE'), ('A United Nations arms treaty would almost certainly force the U.S. to create an international gun registry, setting the stage for full-scale gun confiscation.', 'FAKE'), ('Says six studies verify that the math adds up for Mitt Romneys tax plan.', 'FAKE'), ('Kendrick Meek was #1 in Florida in taking tobacco cash and then opposed a tax on cigars that would have helped pay for childrens health care.', 'FAKE'), ('Since Wisconsin Gov. Scott Walker took office, we are losing jobs at rates not seen in decades.', 'FAKE'), ('Says unions take away hard-earned money of teachers, firefighters and police officers to play politics.', 'FAKE'), ('President Bush never did one interview with the New York Times during his entire presidency.', 'FAKE'), ('Mr. Trump is self-financing his campaign, so we dont have any donors.', 'FAKE'), ('Embryonic stem cell research is at a dead end, with no one good example of a successful treatment.', 'FAKE'), ('What we have now is the most generous, in my opinion, good time bill in the entire United States.', 'FAKE'), ('There is no Plan B if the transportation referendum is not passed by voters.', 'FAKE'), ('Youll find blacks in almost every regiment throughout the South who fought right alongside white Southerners, during the Civil War.', 'FAKE'), (\"Hillary's baby bond proposal would give $5,000 to each of the 4-million babies born in the U.S. each year, totaling $20-billion per year, multiplied by four years = $80-billion.\", 'FAKE'), ('If Rhode Island does a hybrid [retirement] plan well be the first state in the nation to do this.', 'FAKE'), ('Newt Gingrichs presidential campaign has exactly the same challenges as Ronald Reagans successful 1980 bid.', 'FAKE'), ('We have 395 inmates pushed into triple-bunked cells intended for two inmates and bunked in classrooms and areas supposed to be designated for inmate labor.', 'FAKE'), ('If the House of Representatives fails to extend the middle-class tax cuts, 400,000 middle-class Rhode Island families will see their federal income taxes increase.', 'FAKE'), (\"If you actually took the number of Muslims [sic] Americans, we'd be one of the largest Muslim countries in the world.\", 'FAKE'), ('Jim Renacci voted repeatedly to end Medicare.', 'FAKE'), ('Health insurance companies pay CEOs $24 million a year', 'FAKE'), ('Says in 1944 we were in debt more than twice as much as we are now.', 'FAKE'), ('Says Ohios I-X Center used to be a great plant, but thousands of people of worked here, and they left when their jobs were moved overseas.', 'FAKE'), ('Under a new law, doctors performing drug-induced abortions could be charged if women dont return to them for follow-up care', 'FAKE'), ('At a minimum, 40 percent of those who view child pornography end up molesting children as a result.', 'FAKE'), ('Its hard to get people in Portland to vote yes on ballot measures, especially when theres opposition.', 'FAKE'), ('Says 11 straight years of no major hurricanes striking land in the United States bores a hole right through the whole climate change argument.', 'FAKE'), ('Members of Congress receive full pay retirement after serving one term.', 'FAKE'), ('In 2010 alone, 1,270 infants were reported to have died following attempted abortions and notably that is only one year.', 'FAKE'), ('Says the No. 2 cause of death in the U.S. (for) women under 50 is being killed by their spouse or domestic partner.', 'FAKE'), ('Says Every legislative district in the state has at least one craft brewery and countless home brewers.', 'FAKE'), ('Says Demond Means, turnaround district superintendent for Milwaukee Public Schools, said the district needs to be gutted.', 'FAKE'), ('Says Mahatma Gandhi once said, First they ignore you, then they laugh at you, then they fight you, then you win.', 'FAKE'), ('The IRS will have the ability potentially to deny or delay health care.', 'FAKE'), ('Deregulation of the states telecommunications industry will create 50,000 jobs in Wisconsin.', 'FAKE'), ('Says in the last 20 years, the French have not stood by the United States on foreign policy.', 'FAKE'), ('Says thousands at a Manhattan rally for Donald Trump were chanting We hate Muslims, we hate blacks, we want our great country back.', 'FAKE'), ('The Richardson-Denish administration gave 50,000 drivers licenses to illegal immigrants in New Mexico.', 'FAKE'), ('Christian Pastor in Vermont Sentenced to One Year in Prison After Refusing to Marry Gay Couple', 'FAKE'), ('Our veterans, in many cases, are being treated worse than illegal immigrants.', 'FAKE'), ('Hidden in the healthcare.gov code is language that means users waive any reasonable right to privacy of your personal information.', 'FAKE'), ('Most military experts say there is anywhere between 25 and 30 members of al Qaeda in Afghanistan.', 'FAKE'), ('In Cranston, it costs $5,000 to $6,000 to send out community notifications on just one Level 3 sex offender.', 'FAKE'), ('Roy Coopers refusal to do his job is costing taxpayers money.', 'FAKE'), ('Did you know that in 2013 over 50 percent of all babies born in Oregon were Hispanic?', 'FAKE'), ('Barack Obama wants to \"unilaterally disarm our nation.\"', 'FAKE'), ('Milwaukees problems include 52 percent black male unemployment.', 'FAKE'), ('Job growth in the United States is now at the fastest pace in this countrys history.', 'FAKE'), ('The State of Rhode Island has the worst state-funded pension in the country.', 'FAKE'), ('Says hes never asked for more than inflationary budget increases in his 10 budgets as Milwaukee County sheriff', 'FAKE'), ('Under New York Mayor Bill de Blasio, homicides are up by 20 percent, and subway delays have soared 45 percent.', 'FAKE')]\n"
          ]
        }
      ]
    },
    {
      "cell_type": "code",
      "source": [],
      "metadata": {
        "id": "avNcnXmIPKX7"
      },
      "execution_count": 17,
      "outputs": []
    },
    {
      "cell_type": "code",
      "source": [],
      "metadata": {
        "id": "FopWbzMZsOsK"
      },
      "execution_count": 17,
      "outputs": []
    }
  ],
  "metadata": {
    "colab": {
      "provenance": [],
      "collapsed_sections": []
    },
    "kernelspec": {
      "display_name": "Python 3 (ipykernel)",
      "language": "python",
      "name": "python3"
    },
    "language_info": {
      "codemirror_mode": {
        "name": "ipython",
        "version": 3
      },
      "file_extension": ".py",
      "mimetype": "text/x-python",
      "name": "python",
      "nbconvert_exporter": "python",
      "pygments_lexer": "ipython3",
      "version": "3.10.8"
    }
  },
  "nbformat": 4,
  "nbformat_minor": 0
}