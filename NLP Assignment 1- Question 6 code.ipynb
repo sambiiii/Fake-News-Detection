{
  "cells": [
    {
      "cell_type": "code",
      "execution_count": 1,
      "metadata": {
        "colab": {
          "base_uri": "https://localhost:8080/"
        },
        "id": "sMGQXyMzPGzK",
        "outputId": "c9a4cfb3-4a2a-454f-b3ed-7a7f075330d0"
      },
      "outputs": [
        {
          "output_type": "stream",
          "name": "stdout",
          "text": [
            "Looking in indexes: https://pypi.org/simple, https://us-python.pkg.dev/colab-wheels/public/simple/\n",
            "Requirement already satisfied: nltk in /usr/local/lib/python3.7/dist-packages (3.7)\n",
            "Requirement already satisfied: regex>=2021.8.3 in /usr/local/lib/python3.7/dist-packages (from nltk) (2022.6.2)\n",
            "Requirement already satisfied: tqdm in /usr/local/lib/python3.7/dist-packages (from nltk) (4.64.1)\n",
            "Requirement already satisfied: click in /usr/local/lib/python3.7/dist-packages (from nltk) (7.1.2)\n",
            "Requirement already satisfied: joblib in /usr/local/lib/python3.7/dist-packages (from nltk) (1.2.0)\n"
          ]
        }
      ],
      "source": [
        "!pip install nltk"
      ]
    },
    {
      "cell_type": "code",
      "execution_count": 2,
      "metadata": {
        "id": "nOBr4d31PGzM"
      },
      "outputs": [],
      "source": [
        "import csv                               # csv reader\n",
        "from sklearn.svm import LinearSVC\n",
        "from nltk.classify import SklearnClassifier\n",
        "from sklearn.pipeline import Pipeline\n",
        "from sklearn.metrics import precision_recall_fscore_support # to report on precision and recall\n",
        "import numpy as np"
      ]
    },
    {
      "cell_type": "code",
      "execution_count": 3,
      "metadata": {
        "id": "qoPdohdUPGzM"
      },
      "outputs": [],
      "source": [
        "def load_data(path):\n",
        "    \"\"\"Load data from a tab-separated file and append it to raw_data.\"\"\"\n",
        "    with open(path) as f:\n",
        "        reader = csv.reader(f, delimiter='\\t')\n",
        "        for line in reader:\n",
        "            if line[0] == \"Id\":  # skip header\n",
        "                continue\n",
        "            (label, text, total_barely_true_counts, total_false_counts, total_half_true_counts, total_mostly_true_counts) = parse_data_line(line)\n",
        "            raw_data.append((text, label, total_barely_true_counts, total_false_counts, total_half_true_counts, total_mostly_true_counts))\n",
        "\n",
        "\n",
        "def split_and_preprocess_data(percentage):\n",
        "    \"\"\"Split the data between train_data and test_data according to the percentage\n",
        "    and performs the preprocessing.\"\"\"\n",
        "    num_samples = len(raw_data)\n",
        "    num_training_samples = int((percentage * num_samples))\n",
        "    for (text, label, total_barely_true_counts, total_false_counts, total_half_true_counts, total_mostly_true_counts) in raw_data[:num_training_samples]:\n",
        "        # Update the dictionary\n",
        "        dictionary = (to_feature_vector(pre_process(text)))\n",
        "        dictionary['total_barely_true_counts'] = total_barely_true_counts\n",
        "        dictionary['total_false_counts'] = total_false_counts\n",
        "        dictionary['total_half_true_counts'] = total_half_true_counts\n",
        "        dictionary['total_mostly_true_counts'] = total_mostly_true_counts\n",
        "        train_data.append((dictionary,label))\n",
        "    for (text, label, total_barely_true_counts, total_false_counts, total_half_true_counts, total_mostly_true_counts) in raw_data[num_training_samples:]:\n",
        "        dictionary = (to_feature_vector(pre_process(text)))\n",
        "        dictionary['total_barely_true_counts'] = total_barely_true_counts\n",
        "        dictionary['total_false_counts'] = total_false_counts\n",
        "        dictionary['total_half_true_counts'] = total_half_true_counts\n",
        "        dictionary['total_mostly_true_counts'] = total_mostly_true_counts\n",
        "        test_data.append((dictionary,label))"
      ]
    },
    {
      "cell_type": "markdown",
      "metadata": {
        "id": "d7yeUVmVPGzN"
      },
      "source": [
        "# Question 1: Input and Basic preprocessing (10 marks)"
      ]
    },
    {
      "cell_type": "code",
      "execution_count": 4,
      "metadata": {
        "id": "j4UQuRFyPGzN"
      },
      "outputs": [],
      "source": [
        "def convert_label(label):\n",
        "    \"\"\"Converts the multiple classes into two,\n",
        "    making it a binary distinction between fake news and real.\"\"\"\n",
        "    #return label\n",
        "    # Converting the multiclass labels to binary label\n",
        "    labels_map = {\n",
        "        'true': 'REAL',\n",
        "        'mostly-true': 'REAL',\n",
        "        'half-true': 'REAL',\n",
        "        'false': 'FAKE',\n",
        "        'barely-true': 'FAKE',\n",
        "        'pants-fire': 'FAKE'\n",
        "    }\n",
        "    return labels_map[label]\n",
        "\n",
        "\n",
        "def parse_data_line(data_line):\n",
        "    # Should return a tuple of the label as just FAKE or REAL and the statement\n",
        "    label = convert_label(data_line[1])\n",
        "    statement = data_line[2]\n",
        "    total_barely_true_counts = data_line[8]\n",
        "    total_false_counts = data_line[9]\n",
        "    total_half_true_counts = data_line[10]\n",
        "    total_mostly_true_counts = data_line[11]\n",
        "    return (label, statement, total_barely_true_counts, total_false_counts, total_half_true_counts, total_mostly_true_counts)"
      ]
    },
    {
      "cell_type": "code",
      "execution_count": 5,
      "metadata": {
        "colab": {
          "base_uri": "https://localhost:8080/"
        },
        "id": "F2LNz4oePGzO",
        "outputId": "8b662c4d-272d-48b1-e66a-e59cae45d88b"
      },
      "outputs": [
        {
          "output_type": "stream",
          "name": "stderr",
          "text": [
            "[nltk_data] Downloading package punkt to /root/nltk_data...\n",
            "[nltk_data]   Package punkt is already up-to-date!\n"
          ]
        }
      ],
      "source": [
        "from nltk.tokenize import word_tokenize\n",
        "from string import punctuation\n",
        "import nltk\n",
        "import re\n",
        "nltk.download('punkt')\n",
        "\n",
        "# Input: a string of one statement\n",
        "def pre_process(text):\n",
        "    # Should return a list of tokens\n",
        "    # DESCRIBE YOUR METHOD IN WORDS\n",
        "    text = re.sub(r\"(\\w)([.,;:!?'\\\"”\\)])\", r\"\\1 \\2\", text) # separate punctuation at ends of\n",
        "    text = re.sub(r\"([.,;:!?'\\\"“\\(\\)])(\\w)\", r\"\\1 \\2\", text)  # separate punctuation at beginning of words\n",
        "    text = re.split(r\"\\s+\",text) # divide strings into words \n",
        "    tokens = [t.lower() for t in text] # lower case\n",
        "    return tokens"
      ]
    },
    {
      "cell_type": "code",
      "execution_count": 6,
      "metadata": {
        "id": "kXtj4A7raPeS"
      },
      "outputs": [],
      "source": [
        "#[word.lower() for word in word_tokenize(text) if word not in punctuation]"
      ]
    },
    {
      "cell_type": "markdown",
      "metadata": {
        "id": "XpaTPyLzPGzO"
      },
      "source": [
        "# Question 2: Basic Feature Extraction (20 marks)"
      ]
    },
    {
      "cell_type": "code",
      "execution_count": 7,
      "metadata": {
        "id": "fiI-bQxHPGzP"
      },
      "outputs": [],
      "source": [
        "global_feature_dict = {} # A global dictionary of features\n",
        "\n",
        "def to_feature_vector(tokens):\n",
        "    # Should return a dictionary containing features as keys, and weights as values\n",
        "    # DESCRIBE YOUR METHOD IN WORDS\n",
        "    result = {}\n",
        "    for token in tokens:\n",
        "        if token not in result:\n",
        "            result[token] = 0\n",
        "        result[token] += 1\n",
        "        if token not in global_feature_dict:\n",
        "            global_feature_dict[token] = 0\n",
        "        global_feature_dict[token] += 1\n",
        "    return result"
      ]
    },
    {
      "cell_type": "code",
      "execution_count": 8,
      "metadata": {
        "id": "Pjq9MqvXPGzP"
      },
      "outputs": [],
      "source": [
        "# TRAINING AND VALIDATING OUR CLASSIFIER\n",
        "\n",
        "def train_classifier(data):\n",
        "    print(\"Training Classifier...\")\n",
        "    pipeline =  Pipeline([('svc', LinearSVC())])\n",
        "    return SklearnClassifier(pipeline).train(data)"
      ]
    },
    {
      "cell_type": "markdown",
      "metadata": {
        "id": "uGuZKN3cPGzP"
      },
      "source": [
        "# Question 3: Cross-validation (20 marks)"
      ]
    },
    {
      "cell_type": "code",
      "execution_count": 9,
      "metadata": {
        "id": "er239vJsPGzQ"
      },
      "outputs": [],
      "source": [
        "#solution\n",
        "from sklearn.metrics import classification_report\n",
        "from sklearn.metrics import accuracy_score\n",
        "\n",
        "\n",
        "\n",
        "def cross_validate(dataset, folds):\n",
        "    results=[]\n",
        "    cv_results = []\n",
        "    accuracy = []\n",
        "    fold_size = int(len(dataset)/folds) + 1\n",
        "    for i in range(0,len(dataset),int(fold_size)):\n",
        "        # insert code here that trains and tests on the 10 folds of data in the dataset\n",
        "        print(\"Fold start on items %d - %d\" % (i, i+fold_size))\n",
        "        # FILL IN THE METHOD HERE\n",
        "        train_set = dataset[:i] + dataset[i+fold_size:]\n",
        "        valid_set = dataset[i:i+fold_size]\n",
        "        samples, labels = map(list, zip(*valid_set))\n",
        "        classifier = train_classifier(train_set)\n",
        "        #y_predict\n",
        "        predictions = predict_labels(samples, classifier)\n",
        "        results += predictions\n",
        "        #y_true = label \n",
        "        y_true = [x[1] for x in valid_set]\n",
        "        cv_results.append(precision_recall_fscore_support(y_true, predictions, average='weighted'))\n",
        "        accuracy.append(accuracy_score(y_true, predictions))\n",
        "\n",
        "    train_set_label = [sample[1] for sample in dataset]    \n",
        "    print(classification_report(train_set_label, results))    \n",
        "# Average calculation of values oer 10 fold runs\n",
        "    cv_results = np.array(cv_results)\n",
        "    cv_results = [np.mean(cv_results[:,0]), np.mean(cv_results[:,1]), np.mean(cv_results[:,2])]\n",
        "\n",
        "    accuracy = np.asarray(accuracy)\n",
        "    accuracy = np.mean(accuracy)\n",
        "\n",
        "    print('The overall precision is {}'\n",
        "          '\\nrecall score is {}'\n",
        "          '\\nf1 score is {}'\n",
        "          '\\naccuracy is {}'.format(cv_results[0],cv_results[1],cv_results[2],accuracy))\n",
        "\n",
        "    predicted_label_data= []\n",
        "    for i in range(len(dataset)):\n",
        "        list_dataset = list(dataset[i])\n",
        "        list_dataset = list_dataset + [results[i]]\n",
        "        predicted_label_data.append(list_dataset)\n",
        "\n",
        "    return cv_results, predicted_label_data\n",
        "\n",
        "\n",
        "\n"
      ]
    },
    {
      "cell_type": "code",
      "execution_count": 10,
      "metadata": {
        "id": "C-lWb_n8PGzQ"
      },
      "outputs": [],
      "source": [
        "# PREDICTING LABELS GIVEN A CLASSIFIER\n",
        "\n",
        "def predict_labels(samples, classifier):\n",
        "    \"\"\"Assuming preprocessed samples, return their predicted labels from the classifier model.\"\"\"\n",
        "    return classifier.classify_many(samples)\n",
        "\n",
        "def predict_label_from_raw(sample, classifier):\n",
        "    \"\"\"Assuming raw text, return its predicted label from the classifier model.\"\"\"\n",
        "    return classifier.classify(to_feature_vector(preProcess(reviewSample)))"
      ]
    },
    {
      "cell_type": "code",
      "execution_count": 11,
      "metadata": {
        "colab": {
          "base_uri": "https://localhost:8080/"
        },
        "id": "zM8UMo6bPGzQ",
        "outputId": "cd0713dc-7c85-43e0-d325-7722515dec5e"
      },
      "outputs": [
        {
          "output_type": "stream",
          "name": "stdout",
          "text": [
            "Now 0 rawData, 0 trainData, 0 testData\n",
            "Preparing the dataset...\n",
            "Now 10241 rawData, 0 trainData, 0 testData\n",
            "Preparing training and test data...\n",
            "After split, 10241 rawData, 8192 trainData, 2049 testData\n",
            "Training Samples: \n",
            "8192\n",
            "Features: \n",
            "13560\n"
          ]
        }
      ],
      "source": [
        "# MAIN\n",
        "\n",
        "# loading reviews\n",
        "# initialize global lists that will be appended to by the methods below\n",
        "raw_data = []          # the filtered data from the dataset file\n",
        "train_data = []        # the pre-processed training data as a percentage of the total dataset\n",
        "test_data = []         # the pre-processed test data as a percentage of the total dataset\n",
        "\n",
        "\n",
        "# references to the data files\n",
        "data_file_path = 'fake_news.tsv'\n",
        "\n",
        "# Do the actual stuff (i.e. call the functions we've made)\n",
        "# We parse the dataset and put it in a raw data list\n",
        "print(\"Now %d rawData, %d trainData, %d testData\" % (len(raw_data), len(train_data), len(test_data)),\n",
        "      \"Preparing the dataset...\",sep='\\n')\n",
        "\n",
        "load_data(data_file_path) \n",
        "\n",
        "# We split the raw dataset into a set of training data and a set of test data (80/20)\n",
        "# You do the cross validation on the 80% (training data)\n",
        "# We print the number of training samples and the number of features before the split\n",
        "print(\"Now %d rawData, %d trainData, %d testData\" % (len(raw_data), len(train_data), len(test_data)),\n",
        "      \"Preparing training and test data...\",sep='\\n')\n",
        "\n",
        "\n",
        "split_and_preprocess_data(0.8)\n",
        "\n",
        "# We print the number of training samples and the number of features after the split\n",
        "print(\"After split, %d rawData, %d trainData, %d testData\" % (len(raw_data), len(train_data), len(test_data)),\n",
        "      \"Training Samples: \", len(train_data), \"Features: \", len(global_feature_dict), sep='\\n')\n"
      ]
    },
    {
      "cell_type": "code",
      "execution_count": 12,
      "metadata": {
        "colab": {
          "base_uri": "https://localhost:8080/"
        },
        "id": "jsujEFgiZWB6",
        "outputId": "9d7eb73e-a90d-4d5c-a0b8-8d73c343b2b7"
      },
      "outputs": [
        {
          "output_type": "stream",
          "name": "stdout",
          "text": [
            "Fold start on items 0 - 820\n",
            "Training Classifier...\n",
            "Fold start on items 820 - 1640\n",
            "Training Classifier...\n",
            "Fold start on items 1640 - 2460\n",
            "Training Classifier...\n",
            "Fold start on items 2460 - 3280\n",
            "Training Classifier...\n",
            "Fold start on items 3280 - 4100\n",
            "Training Classifier...\n",
            "Fold start on items 4100 - 4920\n",
            "Training Classifier...\n",
            "Fold start on items 4920 - 5740\n",
            "Training Classifier...\n",
            "Fold start on items 5740 - 6560\n",
            "Training Classifier...\n",
            "Fold start on items 6560 - 7380\n",
            "Training Classifier...\n",
            "Fold start on items 7380 - 8200\n",
            "Training Classifier...\n",
            "              precision    recall  f1-score   support\n",
            "\n",
            "        FAKE       0.60      0.60      0.60      3562\n",
            "        REAL       0.69      0.69      0.69      4630\n",
            "\n",
            "    accuracy                           0.65      8192\n",
            "   macro avg       0.64      0.64      0.64      8192\n",
            "weighted avg       0.65      0.65      0.65      8192\n",
            "\n",
            "The overall precision is 0.6515008382044486\n",
            "recall score is 0.6506584164363811\n",
            "f1 score is 0.6507457214640542\n",
            "accuracy is 0.6506584164363811\n"
          ]
        }
      ],
      "source": [
        "cv_results, predicted_label_data = cross_validate(train_data, 10)"
      ]
    },
    {
      "cell_type": "markdown",
      "metadata": {
        "id": "GQXi_7FLPGzR"
      },
      "source": [
        "# 4. Error Analysis (10 marks)"
      ]
    },
    {
      "cell_type": "code",
      "execution_count": 13,
      "metadata": {
        "id": "GaJ25h2KQUyN"
      },
      "outputs": [],
      "source": [
        "def crossValidate(dataset, folds):\n",
        "    cv_results = []\n",
        "    accuracy = []\n",
        "    shuffle(dataset)\n",
        "    foldSize = int(len(dataset)/folds)\n",
        "    for i in range(0,len(dataset),foldSize):\n",
        "        # insert code here that trains and tests on the 10 folds of data in the dataset\n",
        "        print (\"fold start %d foldSize %d\" % (i, foldSize))\n",
        "        myTestData = dataset[i:i+foldSize]\n",
        "        myTrainData = dataset[0:i] + dataset[i+foldSize:]\n",
        "        classifier = trainClassifier(myTrainData)\n",
        "        y_pred = predictLabels(myTestData, classifier)\n",
        "#         review,label = zip(*myTestData)\n",
        "#         y_true = label\n",
        "        y_true = [x[1] for x in myTestData]\n",
        "#         y_true = classifier.classify(map(lambda x: x[1], myTestData))\n",
        "        cv_results.append(precision_recall_fscore_support(y_true, y_pred, average='weighted'))\n",
        "        accuracy.append(accuracy_score(y_true, y_pred))"
      ]
    },
    {
      "cell_type": "code",
      "execution_count": 14,
      "metadata": {
        "id": "gsVmLzcJPGzR"
      },
      "outputs": [],
      "source": [
        "from sklearn import metrics\n",
        "import matplotlib.pyplot as plt\n",
        "# a function to make the confusion matrix readable and pretty\n",
        "def confusion_matrix_heatmap(y_test, preds, labels):\n",
        "    \"\"\"Function to plot a confusion matrix\"\"\"\n",
        "    # pass labels to the confusion matrix function to ensure right order\n",
        "    cm = metrics.confusion_matrix(y_test, preds, labels=labels)\n",
        "    fig = plt.figure(figsize=(10,10))\n",
        "    ax = fig.add_subplot(111)\n",
        "    cax = ax.matshow(cm)\n",
        "    plt.title('Confusion matrix of the classifier')\n",
        "    fig.colorbar(cax)\n",
        "    ax.set_xticks(np.arange(len(labels)))\n",
        "    ax.set_yticks(np.arange(len(labels)))\n",
        "    ax.set_xticklabels( labels, rotation=45)\n",
        "    ax.set_yticklabels( labels)\n",
        "\n",
        "    for i in range(len(cm)):\n",
        "        for j in range(len(cm)):\n",
        "            text = ax.text(j, i, cm[i, j],\n",
        "                           ha=\"center\", va=\"center\", color=\"w\")\n",
        "\n",
        "    plt.xlabel('Predicted')\n",
        "    plt.ylabel('True')\n",
        "    \n",
        "    # fix for mpl bug that cuts off top/bottom of seaborn viz:\n",
        "    b, t = plt.ylim() # discover the values for bottom and top\n",
        "    b += 0.5 # Add 0.5 to the bottom\n",
        "    t -= 0.5 # Subtract 0.5 from the top\n",
        "    plt.ylim(b, t) # update the ylim(bottom, top) values\n",
        "    plt.show() # ta-da!\n",
        "    plt.show()"
      ]
    },
    {
      "cell_type": "code",
      "execution_count": 15,
      "metadata": {
        "colab": {
          "base_uri": "https://localhost:8080/",
          "height": 632
        },
        "id": "h3VSoeRf5LCe",
        "outputId": "99ccc230-b80e-4ab9-f64b-d82e058e6393"
      },
      "outputs": [
        {
          "output_type": "display_data",
          "data": {
            "text/plain": [
              "<Figure size 720x720 with 2 Axes>"
            ],
            "image/png": "[encoded data removed]"
          },
          "metadata": {
            "needs_background": "light"
          }
        }
      ],
      "source": [
        "labels = ['REAL', 'FAKE']\n",
        "train_data_label = [sample[1] for sample in predicted_label_data[:820]]\n",
        "train_predict_label = [sample[2] for sample in predicted_label_data[:820]]\n",
        "confusion_matrix_heatmap(train_data_label, train_predict_label, labels)\n",
        "\n",
        "false_positive = []\n",
        "false_negative = []\n",
        "for i in range(len(train_data_label)):\n",
        "    if predicted_label_data[i][1] == 'FAKE' and predicted_label_data[i][2] == 'REAL':\n",
        "        false_negative.append(predicted_label_data[i])\n",
        "    if predicted_label_data[i][1] == 'REAL' and predicted_label_data[i][2] == 'FAKE':\n",
        "        false_positive.append(predicted_label_data[i])\n",
        "\n",
        "def file_print_out(false):\n",
        "    raw_data_spilt = [pre_process(text[0]) for text in raw_data]\n",
        "    false_list = [list(text[0]) for text in false]\n",
        "    output_list = []\n",
        "    for tokens_1 in false_list:\n",
        "      for i in range(len(raw_data_spilt)):\n",
        "        if all(list(word in raw_data_spilt[i] for word in tokens_1)):\n",
        "            output_list.append(raw_data[i])\n",
        "    print(output_list)\n",
        "\n",
        "\n"
      ]
    },
    {
      "cell_type": "code",
      "execution_count": 16,
      "metadata": {
        "colab": {
          "base_uri": "https://localhost:8080/"
        },
        "id": "0xvjFpYJAwox",
        "outputId": "66e793ed-0e5c-4172-d500-39b0a549a5dc"
      },
      "outputs": [
        {
          "output_type": "stream",
          "name": "stdout",
          "text": [
            "({'the': 2, 'bush': 1, 'tax': 1, 'cuts': 1, 'helped': 1, 'to': 1, 'create': 1, 'a': 1, 'substantial': 1, 'part': 1, 'of': 1, 'deficit': 1, '.': 1, 'total_barely_true_counts': '1', 'total_false_counts': '3', 'total_half_true_counts': '4', 'total_mostly_true_counts': '6'}, 'REAL')\n",
            "8192\n",
            "Training Classifier...\n",
            "Done training!\n",
            "Precision: 0.644901\n",
            "Recall: 0.645193\n",
            "F Score:0.645034\n",
            "Accuracy:0.645193\n"
          ]
        }
      ],
      "source": [
        "# Finally, check the accuracy of your classifier by training on all the traning data\n",
        "# and testing on the test set\n",
        "# Will only work once all functions are complete\n",
        "functions_complete = True  # set to True once you're happy with your methods for cross val\n",
        "if functions_complete:\n",
        "    print(test_data[0])   # have a look at the first test data instance\n",
        "    print(len(train_data))\n",
        "    classifier = train_classifier(train_data)  # train the classifier\n",
        "    test_true = [t[1] for t in test_data]   # get the ground-truth labels from the data\n",
        "    test_pred = predict_labels([x[0] for x in test_data], classifier)  # classify the test data to get predicted labels\n",
        "    final_scores = precision_recall_fscore_support(test_true, test_pred, average='weighted') # evaluate\n",
        "    accuracy = np.mean(np.array(accuracy_score(test_true, test_pred)))\n",
        "    print(\"Done training!\")\n",
        "    print(\"Precision: %f\\nRecall: %f\\nF Score:%f\" % final_scores[:3])\n",
        "    print(\"Accuracy:%f\" % accuracy)"
      ]
    },
    {
      "cell_type": "code",
      "execution_count": 16,
      "metadata": {
        "id": "Yr4a5ubHBYwV"
      },
      "outputs": [],
      "source": []
    }
  ],
  "metadata": {
    "colab": {
      "collapsed_sections": [],
      "provenance": []
    },
    "kernelspec": {
      "display_name": "Python 3 (ipykernel)",
      "language": "python",
      "name": "python3"
    },
    "language_info": {
      "codemirror_mode": {
        "name": "ipython",
        "version": 3
      },
      "file_extension": ".py",
      "mimetype": "text/x-python",
      "name": "python",
      "nbconvert_exporter": "python",
      "pygments_lexer": "ipython3",
      "version": "3.10.8"
    }
  },
  "nbformat": 4,
  "nbformat_minor": 0
}